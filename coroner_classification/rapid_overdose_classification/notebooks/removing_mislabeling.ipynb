{
 "cells": [
  {
   "cell_type": "code",
   "execution_count": null,
   "id": "0",
   "metadata": {},
   "outputs": [],
   "source": [
    "import pandas as pd"
   ]
  },
  {
   "cell_type": "code",
   "execution_count": null,
   "id": "1",
   "metadata": {},
   "outputs": [],
   "source": [
    "overdose_df = pd.read_pickle(\"../../data/outcomes_squashed/combined_data.pkl\")"
   ]
  },
  {
   "cell_type": "code",
   "execution_count": null,
   "id": "2",
   "metadata": {},
   "outputs": [],
   "source": [
    "overdose_df[overdose_df['text'] == 'COMPLICATIONS, OF, TOXIC, ENCEPHALOPATHY, DUE, TO, TOXIC, EFFECTS, OF, TOLAZAMIDE, NONE']"
   ]
  },
  {
   "cell_type": "code",
   "execution_count": null,
   "id": "3",
   "metadata": {},
   "outputs": [],
   "source": [
    "overdose_df[overdose_df['text'] == 'COMPLICATIONS, OF, TOXIC, ENCEPHALOPATHY, DUE, TO, TOXIC, EFFECTS, OF, TOLAZAMIDE, NONE']['Others'] = 1"
   ]
  },
  {
   "cell_type": "code",
   "execution_count": null,
   "id": "4",
   "metadata": {},
   "outputs": [],
   "source": [
    "mask = overdose_df['text'] == 'COMPLICATIONS, OF, TOXIC, ENCEPHALOPATHY, DUE, TO, TOXIC, EFFECTS, OF, TOLAZAMIDE, NONE'"
   ]
  },
  {
   "cell_type": "code",
   "execution_count": null,
   "id": "5",
   "metadata": {},
   "outputs": [],
   "source": [
    "overdose_df.loc[mask, [\"Others\", \"Any Drugs\"]] = 1 "
   ]
  },
  {
   "cell_type": "code",
   "execution_count": null,
   "id": "6",
   "metadata": {},
   "outputs": [],
   "source": [
    "overdose_df[overdose_df['text'] == 'COMPLICATIONS, OF, TOXIC, ENCEPHALOPATHY, DUE, TO, TOXIC, EFFECTS, OF, TOLAZAMIDE, NONE']"
   ]
  },
  {
   "cell_type": "code",
   "execution_count": null,
   "id": "7",
   "metadata": {},
   "outputs": [],
   "source": [
    "mask = overdose_df['text'] == 'COMPLICATIONS, OF, PROBABLE, COMBINED, DRUG, TOXICITY, PROBABLE, CLONAZEPAM, AND, POSSIBLE, OPIOID, AND, ESZOPICLONE'\n",
    "overdose_df.loc[mask, [\"Others\", \"Any Drugs\"]] = 1 "
   ]
  },
  {
   "cell_type": "code",
   "execution_count": null,
   "id": "8",
   "metadata": {},
   "outputs": [],
   "source": [
    "overdose_df[overdose_df['text'] == 'COMPLICATIONS, OF, PROBABLE, COMBINED, DRUG, TOXICITY, PROBABLE, CLONAZEPAM, AND, POSSIBLE, OPIOID, AND, ESZOPICLONE']"
   ]
  },
  {
   "cell_type": "code",
   "execution_count": null,
   "id": "9",
   "metadata": {},
   "outputs": [],
   "source": [
    "mask = overdose_df['text'] == 'ACUTE, ISOTONITAZENE, INTOXICATION'\n",
    "overdose_df.loc[mask, [\"Any Opioids\", \"Any Drugs\"]] = 1 "
   ]
  },
  {
   "cell_type": "code",
   "execution_count": null,
   "id": "10",
   "metadata": {},
   "outputs": [],
   "source": [
    "overdose_df[overdose_df['text'] == 'ACUTE, ISOTONITAZENE, INTOXICATION']"
   ]
  },
  {
   "cell_type": "code",
   "execution_count": null,
   "id": "11",
   "metadata": {},
   "outputs": [],
   "source": [
    "mask = overdose_df['text'] == 'ACUTE, INTOXICATION, FROM, THE, COMBINED, EFFECTS, OF, COCAINE, FENTANYL, ZOLPIDEM, 7, AMINO, CLONAZEPAM, BUPROPION, VERAPAMIL, AND, ALCOHOL'\n",
    "overdose_df.loc[mask, [\"Others\"]] = 1 "
   ]
  },
  {
   "cell_type": "code",
   "execution_count": null,
   "id": "12",
   "metadata": {},
   "outputs": [],
   "source": [
    "mask = overdose_df['text'] == 'ACUTE, FENTANYL, FLUAPRAZOLAM, AND, COCAINE, TOXICITY, INGESTION, OF, DRUGS'\n",
    "overdose_df.loc[mask, [\"Benzodiazepines\"]] = 1 "
   ]
  },
  {
   "cell_type": "code",
   "execution_count": null,
   "id": "13",
   "metadata": {},
   "outputs": [],
   "source": [
    "overdose_df[overdose_df['text'] == 'ACUTE, FENTANYL, FLUAPRAZOLAM, AND, COCAINE, TOXICITY, INGESTION, OF, DRUGS']"
   ]
  },
  {
   "cell_type": "code",
   "execution_count": null,
   "id": "14",
   "metadata": {},
   "outputs": [],
   "source": [
    "overdose_df.to_pickle(\"../../data/outcomes_squashed/combined_data_removing_mislabels.pkl\")"
   ]
  },
  {
   "cell_type": "code",
   "execution_count": null,
   "id": "15",
   "metadata": {},
   "outputs": [],
   "source": []
  }
 ],
 "metadata": {
  "kernelspec": {
   "display_name": "bertenv",
   "language": "python",
   "name": "python3"
  },
  "language_info": {
   "codemirror_mode": {
    "name": "ipython",
    "version": 3
   },
   "file_extension": ".py",
   "mimetype": "text/x-python",
   "name": "python",
   "nbconvert_exporter": "python",
   "pygments_lexer": "ipython3",
   "version": "3.11.10"
  }
 },
 "nbformat": 4,
 "nbformat_minor": 5
}
