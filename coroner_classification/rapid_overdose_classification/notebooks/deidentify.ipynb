{
 "cells": [
  {
   "cell_type": "code",
   "execution_count": null,
   "metadata": {},
   "outputs": [],
   "source": [
    "import pandas as pd"
   ]
  },
  {
   "cell_type": "code",
   "execution_count": null,
   "metadata": {},
   "outputs": [],
   "source": [
    "latest_df = pd.read_csv(\n",
    "    \"../../pipeline/pipeline_steps/input_files/2012-01-2024-08-overdoses.csv\"\n",
    ")"
   ]
  },
  {
   "cell_type": "code",
   "execution_count": null,
   "metadata": {},
   "outputs": [],
   "source": [
    "latest_df = latest_df.drop(columns=[\"DateofBirth\"])"
   ]
  },
  {
   "cell_type": "code",
   "execution_count": null,
   "metadata": {},
   "outputs": [],
   "source": [
    "latest_df[\"DeathDate\"] = pd.to_datetime(latest_df[\"DeathDate\"])"
   ]
  },
  {
   "cell_type": "code",
   "execution_count": null,
   "metadata": {},
   "outputs": [],
   "source": [
    "latest_df[\"MonthYear\"] = latest_df[\"DeathDate\"].apply(lambda x: x.strftime(\"%Y-%m\"))\n",
    "latest_df[\"Year\"] = latest_df[\"DeathDate\"].apply(lambda x: x.year)\n",
    "latest_df[\"YearWeek\"] = latest_df[\"DeathDate\"].apply(lambda x: x.strftime(\"%Y-%U\"))"
   ]
  },
  {
   "cell_type": "code",
   "execution_count": null,
   "metadata": {},
   "outputs": [],
   "source": [
    "latest_df_w_zips = latest_df.dropna(subset=\"ZIPCODE\")"
   ]
  },
  {
   "cell_type": "code",
   "execution_count": null,
   "metadata": {},
   "outputs": [],
   "source": [
    "latest_df_w_zips[\"ZIPCODE\"] = latest_df_w_zips[\"ZIPCODE\"].astype(int).astype(str)"
   ]
  },
  {
   "cell_type": "code",
   "execution_count": null,
   "metadata": {},
   "outputs": [],
   "source": [
    "# Define bins and labels\n",
    "bins = [0, 10, 20, 30, 40, 50, 60, 70, 80, 90, 100]\n",
    "labels = [\n",
    "    \"0-9\",\n",
    "    \"10-19\",\n",
    "    \"20-29\",\n",
    "    \"30-39\",\n",
    "    \"40-49\",\n",
    "    \"50-59\",\n",
    "    \"60-69\",\n",
    "    \"70-79\",\n",
    "    \"80-89\",\n",
    "    \"90+\",\n",
    "]\n",
    "\n",
    "# Assign each age to a bin\n",
    "latest_df_w_zips[\"Age_Bin\"] = pd.cut(\n",
    "    latest_df_w_zips[\"Age\"], bins=bins, labels=labels, right=False\n",
    ")"
   ]
  },
  {
   "cell_type": "code",
   "execution_count": null,
   "metadata": {},
   "outputs": [],
   "source": [
    "def reassign_gender(row):\n",
    "    if row == \"M\":\n",
    "        return \"male\"\n",
    "    elif row == \"F\":\n",
    "        return \"female\"\n",
    "    else:\n",
    "        return row.casefold()"
   ]
  },
  {
   "cell_type": "code",
   "execution_count": null,
   "metadata": {},
   "outputs": [],
   "source": [
    "latest_df_w_zips[\"Gender\"] = latest_df_w_zips[\"Gender\"].apply(reassign_gender)"
   ]
  },
  {
   "cell_type": "code",
   "execution_count": null,
   "metadata": {},
   "outputs": [],
   "source": [
    "# Standardize gender values\n",
    "latest_df_w_zips[\"Gender\"] = (\n",
    "    latest_df_w_zips[\"Gender\"].str.strip().str.lower()\n",
    ")  # Normalize case & trim spaces\n",
    "\n",
    "# Define standardization mapping\n",
    "gender_mapping = {\n",
    "    \"male\": \"Male\",\n",
    "    \"female\": \"Female\",\n",
    "    \"m\": \"Male\",\n",
    "    \"f\": \"Female\",\n",
    "    \"MALE\": \"Male\",\n",
    "    \"FEMALE\": \"Female\",\n",
    "}\n",
    "\n",
    "# Apply mapping & replace invalid values with \"Unknown\"\n",
    "latest_df_w_zips[\"Gender\"] = latest_df_w_zips[\"Gender\"].replace(gender_mapping)\n",
    "\n",
    "# Handle missing or empty values\n",
    "latest_df_w_zips[\"Gender\"] = latest_df_w_zips[\"Gender\"].replace(\n",
    "    {\"\": \"Unknown\"}\n",
    ")  # Replace empty strings\n",
    "latest_df_w_zips[\"Gender\"] = latest_df_w_zips[\"Gender\"].fillna(\n",
    "    \"Unknown\"\n",
    ")  # Replace NaNs"
   ]
  },
  {
   "cell_type": "code",
   "execution_count": null,
   "metadata": {},
   "outputs": [],
   "source": [
    "latest_df_w_zips[\"Race\"] = latest_df_w_zips[\"Race\"].fillna(\"UNKNOWN\")"
   ]
  },
  {
   "cell_type": "code",
   "execution_count": null,
   "metadata": {},
   "outputs": [],
   "source": [
    "latest_df_w_zips = latest_df_w_zips.dropna(subset=\"CT20\")"
   ]
  },
  {
   "cell_type": "code",
   "execution_count": null,
   "metadata": {},
   "outputs": [],
   "source": [
    "latest_df_w_zips[\"CT20\"] = latest_df_w_zips[\"CT20\"].astype(int).astype(str)"
   ]
  },
  {
   "cell_type": "code",
   "execution_count": null,
   "metadata": {},
   "outputs": [],
   "source": [
    "latest_df_w_zips.to_csv(\n",
    "    \"../../reports/deidentified_overdose_201201202408_zips_0311.csv\"\n",
    ")"
   ]
  },
  {
   "cell_type": "code",
   "execution_count": null,
   "metadata": {},
   "outputs": [],
   "source": [
    "latest_df.to_csv(\"../../reports/deidentified_overdose_201201202408.csv\")"
   ]
  },
  {
   "cell_type": "markdown",
   "metadata": {},
   "source": [
    "### Deidentify External Test"
   ]
  },
  {
   "cell_type": "code",
   "execution_count": 1,
   "metadata": {},
   "outputs": [],
   "source": [
    "import pandas as pd"
   ]
  },
  {
   "cell_type": "code",
   "execution_count": 17,
   "metadata": {},
   "outputs": [],
   "source": [
    "external_test = pd.read_csv(\"../../data/external_test_set_coroner.csv\")"
   ]
  },
  {
   "cell_type": "code",
   "execution_count": 18,
   "metadata": {},
   "outputs": [
    {
     "data": {
      "text/plain": [
       "Index(['Unnamed: 0', 'Assigned to', 'Case.Number', 'County', 'State', 'Age',\n",
       "       'Gender.4', 'Age.Group', 'Gender...6', 'Race', 'Date.of.Death', 'Month',\n",
       "       'Manner.of.Death', 'Primary.Cause',\n",
       "       'Secondary.Cause...Injury.Description', 'text', 'Any Opioids', 'Heroin',\n",
       "       'Fentanyl', 'Prescription.opioids', 'Methamphetamine', 'Cocaine',\n",
       "       'Benzodiazepines', 'Alcohol', 'Others', 'Drug No Opioids', 'Any Drugs'],\n",
       "      dtype='object')"
      ]
     },
     "execution_count": 18,
     "metadata": {},
     "output_type": "execute_result"
    }
   ],
   "source": [
    "external_test.columns"
   ]
  },
  {
   "cell_type": "code",
   "execution_count": 19,
   "metadata": {},
   "outputs": [],
   "source": [
    "external_test['Case.Number'] = pd.NA\n",
    "external_test['Gender.4'] = pd.NA\n",
    "external_test['Gender..6'] = pd.NA\n",
    "external_test['Age'] = pd.NA\n",
    "external_test['Race'] = pd.NA\n",
    "external_test['Date.of.Death'] = pd.NA\n",
    "external_test['Month'] = pd.NA\n",
    "external_test['Age.Group'] = pd.NA"
   ]
  },
  {
   "cell_type": "code",
   "execution_count": 22,
   "metadata": {},
   "outputs": [],
   "source": [
    "external_test.drop(columns=['Unnamed: 0'], inplace=True)"
   ]
  },
  {
   "cell_type": "code",
   "execution_count": 23,
   "metadata": {},
   "outputs": [],
   "source": [
    "external_test.to_csv(\"../../data/external_test_set_coroner.csv\")"
   ]
  }
 ],
 "metadata": {
  "kernelspec": {
   "display_name": "bertenv",
   "language": "python",
   "name": "python3"
  },
  "language_info": {
   "codemirror_mode": {
    "name": "ipython",
    "version": 3
   },
   "file_extension": ".py",
   "mimetype": "text/x-python",
   "name": "python",
   "nbconvert_exporter": "python",
   "pygments_lexer": "ipython3",
   "version": "3.11.10"
  }
 },
 "nbformat": 4,
 "nbformat_minor": 2
}
