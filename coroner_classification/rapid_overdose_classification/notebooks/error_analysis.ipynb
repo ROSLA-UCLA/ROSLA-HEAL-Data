{
 "cells": [
  {
   "cell_type": "code",
   "execution_count": null,
   "metadata": {},
   "outputs": [],
   "source": [
    "import pandas as pd\n",
    "import numpy as np"
   ]
  },
  {
   "cell_type": "code",
   "execution_count": null,
   "metadata": {},
   "outputs": [],
   "source": [
    "import pandas as pd\n",
    "\n",
    "# Load the CSV file with wrongly classified external results\n",
    "df = pd.read_csv('../../reports/predicted_wrong_external_removedmislabels_n_model.csv')\n",
    "\n",
    "all_drug_cols = [\n",
    "    \"Methamphetamine\",\n",
    "    \"Heroin\",\n",
    "    \"Cocaine\",\n",
    "    \"Fentanyl\",\n",
    "    \"Alcohol\",\n",
    "    \"Prescription.opioids\",\n",
    "    \"Any Opioids\",\n",
    "    \"Benzodiazepines\",\n",
    "    \"Others\",\n",
    "    \"Any Drugs\",\n",
    "]\n"
   ]
  },
  {
   "cell_type": "code",
   "execution_count": null,
   "metadata": {},
   "outputs": [],
   "source": [
    "import pandas as pd\n",
    "\n",
    "error_data = []\n",
    "for cls in all_drug_cols:\n",
    "    actual = df[cls]\n",
    "    pred = df[f\"{cls}_pred\"].astype(int)\n",
    "    fp = ((actual == 0) & (pred == 1)).sum()\n",
    "    fn = ((actual == 1) & (pred == 0)).sum()\n",
    "    total = fp + fn\n",
    "    cls_name = cls.replace('.', ' ')\n",
    "    error_data.append({\n",
    "        'Drug Class': cls_name,\n",
    "        'FP': int(fp),\n",
    "        'FN': int(fn),\n",
    "        'Total Errors': int(total),\n",
    "        'Possible Reasons': 'N/A'  \n",
    "    })\n",
    "\n",
    "total_fp = sum(item['FP'] for item in error_data)\n",
    "total_fn = sum(item['FN'] for item in error_data)\n",
    "total_errors = sum(item['Total Errors'] for item in error_data)\n",
    "error_data.append({\n",
    "    'Drug Class': 'Total',\n",
    "    'FP': total_fp,\n",
    "    'FN': total_fn,\n",
    "    'Total Errors': total_errors,\n",
    "    'Possible Reasons': 'N/A'\n",
    "})\n"
   ]
  },
  {
   "cell_type": "code",
   "execution_count": null,
   "metadata": {},
   "outputs": [],
   "source": [
    "error_df = pd.DataFrame(error_data)\n"
   ]
  },
  {
   "cell_type": "code",
   "execution_count": null,
   "metadata": {},
   "outputs": [],
   "source": [
    "error_df"
   ]
  }
 ],
 "metadata": {
  "kernelspec": {
   "display_name": "bertenv",
   "language": "python",
   "name": "python3"
  },
  "language_info": {
   "codemirror_mode": {
    "name": "ipython",
    "version": 3
   },
   "file_extension": ".py",
   "mimetype": "text/x-python",
   "name": "python",
   "nbconvert_exporter": "python",
   "pygments_lexer": "ipython3",
   "version": "3.11.10"
  }
 },
 "nbformat": 4,
 "nbformat_minor": 2
}
