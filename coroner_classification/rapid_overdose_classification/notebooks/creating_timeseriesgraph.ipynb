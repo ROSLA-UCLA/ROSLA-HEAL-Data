{
 "cells": [
  {
   "cell_type": "code",
   "execution_count": null,
   "metadata": {},
   "outputs": [],
   "source": [
    "import pandas as pd"
   ]
  },
  {
   "cell_type": "code",
   "execution_count": null,
   "metadata": {},
   "outputs": [],
   "source": [
    "latest_df = pd.read_csv(\n",
    "    \"../../reports/deidentified_overdose_201201202408_zips_0311.csv\"\n",
    ")\n",
    "drug_cols = [\n",
    "    \"Methamphetamine\",\n",
    "    \"Heroin\",\n",
    "    \"Cocaine\",\n",
    "    \"Fentanyl\",\n",
    "    \"Alcohol\",\n",
    "    \"Prescription.opioids\",\n",
    "    \"Any Opioids\",\n",
    "    \"Benzodiazepines\",\n",
    "    \"Others\",\n",
    "    \"Any Drugs\",\n",
    "]"
   ]
  },
  {
   "cell_type": "code",
   "execution_count": null,
   "metadata": {},
   "outputs": [],
   "source": [
    "latest_df.columns"
   ]
  },
  {
   "cell_type": "code",
   "execution_count": null,
   "metadata": {},
   "outputs": [],
   "source": [
    "# 2. Convert 'DeathDate' to a Date/Time type (if it's not already)\n",
    "latest_df[\"DeathDate\"] = pd.to_datetime(latest_df[\"DeathDate\"], errors=\"coerce\")\n",
    "\n",
    "# (Optional) If your dataset uses 'MonthYear' instead, parse that:\n",
    "# latest_df[\"MonthYear\"] = pd.to_datetime(latest_df[\"MonthYear\"], format=\"%Y-%m\")\n",
    "\n",
    "# 3. Filter if you only want \"Any Drugs\" overdoses (i.e., rows where 'Any Drugs' == 1)\n",
    "df_any = latest_df[latest_df[\"Any Drugs\"] == 1].copy()\n",
    "\n",
    "# 4. Create a monthly or quarterly period column\n",
    "#    For monthly:\n",
    "df_any[\"YearMonth\"] = df_any[\"DeathDate\"].dt.to_period(\"M\")\n",
    "\n",
    "#    OR for quarterly:\n",
    "# df_any[\"YearQuarter\"] = df_any[\"DeathDate\"].dt.to_period(\"Q\")\n",
    "\n",
    "# 5. Group by ZIP code and month to count overdoses\n",
    "time_col = \"YearMonth\"  # or \"YearQuarter\"\n",
    "df_counts = (\n",
    "    df_any.groupby([\"ZIPCODE\", time_col])\n",
    "    .size()  # counts the number of rows\n",
    "    .reset_index(name=\"Overdose_Count\")\n",
    ")\n",
    "\n",
    "# 6. Create an \"All\" row by aggregating across all ZIP codes\n",
    "df_all = df_any.groupby(time_col).size().reset_index(name=\"Overdose_Count\")\n",
    "df_all[\"ZIPCODE\"] = \"All\"\n",
    "\n",
    "# Combine them\n",
    "df_counts = pd.concat([df_counts, df_all], ignore_index=True)\n",
    "\n",
    "# 7. (Optional) Sort by time so we can compute rolling averages\n",
    "df_counts = df_counts.sort_values([\"ZIPCODE\", time_col])\n",
    "\n",
    "# Convert the period column to a datetime start-of-period for rolling calculations\n",
    "df_counts[\"PeriodStart\"] = df_counts[time_col].dt.to_timestamp(how=\"start\")\n",
    "\n",
    "# 8. (Optional) Compute a rolling 12-month average (for monthly data)\n",
    "# For quarterly data, rolling(4) approximates a 12-month rolling average\n",
    "df_counts[\"Rolling12\"] = df_counts.groupby(\"ZIPCODE\")[\"Overdose_Count\"].transform(\n",
    "    lambda x: x.rolling(window=12, min_periods=1).mean()\n",
    ")\n",
    "\n",
    "# 9. Save to CSV for ArcGIS Online\n",
    "df_counts.to_csv(\"overdose_monthly_timeseries.csv\", index=False)"
   ]
  },
  {
   "cell_type": "code",
   "execution_count": null,
   "metadata": {},
   "outputs": [],
   "source": [
    "df_counts"
   ]
  },
  {
   "cell_type": "markdown",
   "metadata": {},
   "source": [
    "### Time Series with all "
   ]
  },
  {
   "cell_type": "code",
   "execution_count": null,
   "metadata": {},
   "outputs": [],
   "source": [
    "import pandas as pd\n",
    "\n",
    "# 1. Load your raw overdose data (one row per overdose case)\n",
    "latest_df = pd.read_csv(\n",
    "    \"../../reports/deidentified_overdose_201201202408_zips_0311.csv\"\n",
    ")\n",
    "\n",
    "drug_cols = [\n",
    "    \"Methamphetamine\",\n",
    "    \"Heroin\",\n",
    "    \"Cocaine\",\n",
    "    \"Fentanyl\",\n",
    "    \"Alcohol\",\n",
    "    \"Prescription.opioids\",\n",
    "    \"Any Opioids\",\n",
    "    \"Benzodiazepines\",\n",
    "    \"Others\",\n",
    "    \"Any Drugs\",\n",
    "]\n",
    "\n",
    "# Melt so each row is (Case, Overdose_Type)\n",
    "df_melt = latest_df.melt(\n",
    "    id_vars=[\"CaseNumber\", \"ZIPCODE\", \"DeathDate\"],  # plus any other fields you need\n",
    "    value_vars=drug_cols,\n",
    "    var_name=\"Overdose_Type\",\n",
    "    value_name=\"Occurred\",\n",
    ")\n",
    "\n",
    "# Filter only rows where Occurred == 1 (drug was involved)\n",
    "df_melt = df_melt[df_melt[\"Occurred\"] == 1]\n",
    "df_melt.drop(columns=[\"Occurred\"], inplace=True)"
   ]
  },
  {
   "cell_type": "code",
   "execution_count": null,
   "metadata": {},
   "outputs": [],
   "source": [
    "# Convert 'DeathDate' to datetime if not already\n",
    "df_melt[\"DeathDate\"] = pd.to_datetime(df_melt[\"DeathDate\"], errors=\"coerce\")\n",
    "\n",
    "# Create a monthly or quarterly period\n",
    "df_melt[\"YearMonth\"] = df_melt[\"DeathDate\"].dt.to_period(\"M\")\n",
    "# If you want quarters: df_melt[\"YearQuarter\"] = df_melt[\"DeathDate\"].dt.to_period(\"Q\")\n",
    "time_col = \"YearMonth\"  # or \"YearQuarter\""
   ]
  },
  {
   "cell_type": "code",
   "execution_count": null,
   "metadata": {},
   "outputs": [],
   "source": [
    "df_counts = (\n",
    "    df_melt.groupby([\"ZIPCODE\", \"Overdose_Type\", time_col])\n",
    "    .size()\n",
    "    .reset_index(name=\"Overdose_Count\")\n",
    ")"
   ]
  },
  {
   "cell_type": "code",
   "execution_count": null,
   "metadata": {},
   "outputs": [],
   "source": [
    "df_all_zip = (\n",
    "    df_melt.groupby([\"Overdose_Type\", time_col])\n",
    "    .size()\n",
    "    .reset_index(name=\"Overdose_Count\")\n",
    ")\n",
    "df_all_zip[\"ZIPCODE\"] = \"All\"\n",
    "\n",
    "# Combine them\n",
    "df_counts = pd.concat([df_counts, df_all_zip], ignore_index=True)"
   ]
  },
  {
   "cell_type": "code",
   "execution_count": null,
   "metadata": {},
   "outputs": [],
   "source": [
    "# Sort by ZIPCODE, Overdose_Type, then time\n",
    "df_counts = df_counts.sort_values([\"ZIPCODE\", \"Overdose_Type\", time_col])\n",
    "\n",
    "# Convert the period to a timestamp for rolling\n",
    "df_counts[\"PeriodStart\"] = df_counts[time_col].dt.to_timestamp(how=\"start\")\n",
    "\n",
    "# Rolling 12-month average (for monthly data)\n",
    "df_counts[\"Rolling12\"] = df_counts.groupby([\"ZIPCODE\", \"Overdose_Type\"])[\n",
    "    \"Overdose_Count\"\n",
    "].transform(lambda x: x.rolling(window=12, min_periods=1).mean())"
   ]
  },
  {
   "cell_type": "code",
   "execution_count": null,
   "metadata": {},
   "outputs": [],
   "source": [
    "df_counts[\"zipodtype\"] = (\n",
    "    df_counts[\"ZIPCODE\"].astype(str) + \"_\" + df_counts[\"Overdose_Type\"] + \"_Count\"\n",
    ")"
   ]
  },
  {
   "cell_type": "code",
   "execution_count": null,
   "metadata": {},
   "outputs": [],
   "source": [
    "df_counts.to_csv(\"time_series_with_zip_od_types_fix.csv\", index=False)"
   ]
  },
  {
   "cell_type": "code",
   "execution_count": null,
   "metadata": {},
   "outputs": [],
   "source": []
  }
 ],
 "metadata": {
  "kernelspec": {
   "display_name": "arcgis",
   "language": "python",
   "name": "python3"
  },
  "language_info": {
   "codemirror_mode": {
    "name": "ipython",
    "version": 3
   },
   "file_extension": ".py",
   "mimetype": "text/x-python",
   "name": "python",
   "nbconvert_exporter": "python",
   "pygments_lexer": "ipython3",
   "version": "3.11.11"
  }
 },
 "nbformat": 4,
 "nbformat_minor": 2
}
