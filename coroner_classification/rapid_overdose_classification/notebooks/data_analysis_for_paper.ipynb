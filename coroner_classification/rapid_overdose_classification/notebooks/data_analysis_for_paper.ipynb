{
 "cells": [
  {
   "cell_type": "code",
   "execution_count": null,
   "metadata": {},
   "outputs": [],
   "source": [
    "import pandas as pd\n",
    "from model_tuner import loadObjects\n",
    "from sklearn.model_selection import train_test_split\n",
    "from NaiveSVC import NaivelyCalibratedLinearSVC\n",
    "import numpy as np\n",
    "from sklearn.metrics import f1_score"
   ]
  },
  {
   "cell_type": "code",
   "execution_count": null,
   "metadata": {},
   "outputs": [],
   "source": [
    "drug_df = pd.read_pickle(\"../../data/outcomes_squashed/combined_data.pkl\")\n",
    "\n",
    "drug_df_old = pd.read_pickle(\"/home/afunnell/Code/Rapid_overdose/Data/tfidf.pkl\")"
   ]
  },
  {
   "cell_type": "code",
   "execution_count": null,
   "metadata": {},
   "outputs": [],
   "source": [
    "cols = [\n",
    "    \"Methamphetamine\",\n",
    "    \"Heroin\",\n",
    "    \"Cocaine\",\n",
    "    \"Fentanyl\",\n",
    "    \"Alcohol\",\n",
    "    \"Prescription.opioids\",\n",
    "    \"Any Opioids\",\n",
    "    \"Benzodiazepines\",\n",
    "]"
   ]
  },
  {
   "cell_type": "code",
   "execution_count": null,
   "metadata": {},
   "outputs": [],
   "source": [
    "only_others_count = drug_df[\n",
    "    (drug_df[\"Others\"] == 1) & (drug_df[cols].sum(axis=1) == 0)\n",
    "].shape[0]"
   ]
  },
  {
   "cell_type": "code",
   "execution_count": null,
   "metadata": {},
   "outputs": [],
   "source": [
    "only_others_count"
   ]
  },
  {
   "cell_type": "code",
   "execution_count": null,
   "metadata": {},
   "outputs": [],
   "source": [
    "others_with_substances_count = drug_df[\n",
    "    (drug_df[\"Others\"] == 1) & (drug_df[cols].sum(axis=1) > 0)\n",
    "].shape[0]"
   ]
  },
  {
   "cell_type": "code",
   "execution_count": null,
   "metadata": {},
   "outputs": [],
   "source": [
    "others_with_substances_count"
   ]
  },
  {
   "cell_type": "code",
   "execution_count": null,
   "metadata": {},
   "outputs": [],
   "source": []
  },
  {
   "cell_type": "code",
   "execution_count": null,
   "metadata": {},
   "outputs": [],
   "source": [
    "len(drug_df[(drug_df[\"Others\"] == 1) & (drug_df[\"Heroin\"] == 1)])"
   ]
  },
  {
   "cell_type": "code",
   "execution_count": null,
   "metadata": {},
   "outputs": [],
   "source": [
    "for index, row in drug_df.iterrows():\n",
    "    if \"ethanolism\".lower() in row[\"text\"].lower():\n",
    "        print(row)"
   ]
  },
  {
   "cell_type": "code",
   "execution_count": null,
   "metadata": {},
   "outputs": [],
   "source": [
    "for index, row in drug_df.iterrows():\n",
    "    if (\n",
    "        \"METHYLENEDIOXYMETHAMPHETAMINE\".lower() in row[\"text\"].lower()\n",
    "        or \"MDMA\".lower() in row[\"text\"].lower()\n",
    "    ):\n",
    "        print(\"Hi\")"
   ]
  },
  {
   "cell_type": "code",
   "execution_count": null,
   "metadata": {},
   "outputs": [],
   "source": [
    "naive_svc = loadObjects(\n",
    "    \"../../models/classic_ml_models/single_label/bioclinicalbert/Methamphetamine_SVM.pkl\"\n",
    ")"
   ]
  },
  {
   "cell_type": "code",
   "execution_count": null,
   "metadata": {},
   "outputs": [],
   "source": [
    "y = drug_df[\"Methamphetamine\"].values\n",
    "X = drug_df[\"clinBERTEmbed\"].values\n",
    "X = np.stack(X, axis=0)\n",
    "n_samples, sequence_length, n_features = X.shape\n",
    "X = X.reshape(-1, n_features)\n",
    "X_train, X_test, y_train, y_test = train_test_split(\n",
    "    X, y, test_size=0.2, random_state=42\n",
    ")"
   ]
  },
  {
   "cell_type": "code",
   "execution_count": null,
   "metadata": {},
   "outputs": [],
   "source": [
    "y_pred = naive_svc.predict(X_test)"
   ]
  },
  {
   "cell_type": "code",
   "execution_count": null,
   "metadata": {},
   "outputs": [],
   "source": [
    "pd.DataFrame(y_test).value_counts()"
   ]
  },
  {
   "cell_type": "code",
   "execution_count": null,
   "metadata": {},
   "outputs": [],
   "source": [
    "f1_score(y_test, y_pred, average=\"micro\")"
   ]
  },
  {
   "cell_type": "code",
   "execution_count": null,
   "metadata": {},
   "outputs": [],
   "source": [
    "from itertools import combinations\n",
    "\n",
    "\n",
    "def top_cooccurrence_drug_overdoses(df, drug_cols, top_n=20, max_combination_length=5):\n",
    "    \"\"\"\n",
    "    Calculates the top N co-occurring drug overdoses in the dataset for combinations\n",
    "    up to the specified maximum length.\n",
    "\n",
    "    Parameters:\n",
    "    df (pd.DataFrame): The DataFrame containing the drug overdose data.\n",
    "    drug_cols (list): List of drug columns to analyze for co-occurrence.\n",
    "    top_n (int): The number of top co-occurrences to return.\n",
    "    max_combination_length (int): The maximum number of drugs in a combination.\n",
    "\n",
    "    Returns:\n",
    "    pd.DataFrame: A DataFrame with the top N co-occurrences and their counts.\n",
    "    \"\"\"\n",
    "    co_occurrence_counts = {}\n",
    "\n",
    "    # Loop through each combination length (from 2 up to max_combination_length)\n",
    "    for combination_length in range(2, max_combination_length + 1):\n",
    "        # Generate all combinations of the specified length\n",
    "        for drug_combo in combinations(drug_cols, combination_length):\n",
    "            # Count cases where all drugs in the combination are present (i.e., all are 1)\n",
    "            count = df[list(drug_combo)].all(axis=1).sum()\n",
    "            if count > 0:\n",
    "                co_occurrence_counts[drug_combo] = count\n",
    "\n",
    "    # Convert to DataFrame for easy sorting and selection\n",
    "    co_occurrence_df = pd.DataFrame(\n",
    "        [(combo, count) for combo, count in co_occurrence_counts.items()],\n",
    "        columns=[\"Drug Combination\", \"Count\"],\n",
    "    )\n",
    "\n",
    "    # Sort by count and get the top N combinations\n",
    "    top_co_occurrences = co_occurrence_df.nlargest(top_n, \"Count\")\n",
    "\n",
    "    return top_co_occurrences"
   ]
  },
  {
   "cell_type": "code",
   "execution_count": null,
   "metadata": {},
   "outputs": [],
   "source": [
    "drug_df"
   ]
  },
  {
   "cell_type": "code",
   "execution_count": null,
   "metadata": {},
   "outputs": [],
   "source": [
    "drug_df[drug_df[\"Any Drugs\"] == 1]"
   ]
  },
  {
   "cell_type": "code",
   "execution_count": null,
   "metadata": {},
   "outputs": [],
   "source": [
    "drug_cols = [\n",
    "    \"Methamphetamine\",\n",
    "    \"Heroin\",\n",
    "    \"Cocaine\",\n",
    "    \"Fentanyl\",\n",
    "    \"Alcohol\",\n",
    "    \"Prescription.opioids\",\n",
    "    \"Benzodiazepines\",\n",
    "    \"Others\",\n",
    "]\n",
    "\n",
    "# Assuming your DataFrame is named df\n",
    "top_co_occurrences = top_cooccurrence_drug_overdoses(drug_df, drug_cols)\n",
    "print(top_co_occurrences)"
   ]
  },
  {
   "cell_type": "code",
   "execution_count": null,
   "metadata": {},
   "outputs": [],
   "source": [
    "def plot_top_drug_combinations_with_labels(top_co_occurrences):\n",
    "    \"\"\"\n",
    "    Plots a bar chart of the top drug combinations based on their counts\n",
    "    and adds count labels to each bar.\n",
    "\n",
    "    Parameters:\n",
    "    top_co_occurrences (pd.DataFrame): DataFrame containing 'Drug Combination' and 'Count' columns.\n",
    "    \"\"\"\n",
    "    # Convert the drug combinations from tuples to strings for labeling\n",
    "    top_co_occurrences = top_co_occurrences.copy()\n",
    "    top_co_occurrences[\"Drug Combination\"] = top_co_occurrences[\n",
    "        \"Drug Combination\"\n",
    "    ].apply(lambda combo: \", \".join(combo))\n",
    "\n",
    "    # Set the plot style\n",
    "    sns.set_style(\"whitegrid\")\n",
    "\n",
    "    # Create a bar plot\n",
    "    plt.figure(figsize=(12, 8))\n",
    "    barplot = sns.barplot(\n",
    "        data=top_co_occurrences, x=\"Count\", y=\"Drug Combination\", palette=\"viridis\"\n",
    "    )\n",
    "\n",
    "    # Add count labels to each bar\n",
    "    for i, bar in enumerate(barplot.patches):\n",
    "        count = bar.get_width()  # Get the width of each bar (corresponds to count)\n",
    "        plt.text(\n",
    "            count - 40,  # Slightly offset to the right of the bar\n",
    "            bar.get_y() + bar.get_height() / 2,  # Vertically center the label\n",
    "            f\"{int(count)}\",  # Format as an integer\n",
    "            ha=\"center\",  # Horizontal alignment\n",
    "            va=\"center\",  # Vertical alignment\n",
    "            color=\"white\",\n",
    "        )\n",
    "\n",
    "        percentage = count / 8738 * 100\n",
    "\n",
    "        plt.text(\n",
    "            count + 40,\n",
    "            bar.get_y() + bar.get_height() / 2,  # Vertically center the label\n",
    "            f\"{int(percentage)}%\",  # Format as an integer\n",
    "            ha=\"center\",  # Horizontal alignment\n",
    "            va=\"center\",  # Vertical alignment\n",
    "            color=\"black\",\n",
    "        )\n",
    "\n",
    "    # Set plot labels and title\n",
    "    plt.xlabel(\"Number of Overdoses\")\n",
    "    plt.ylabel(\"Drug Combination\")\n",
    "    plt.title(\"Top 20 Drug Combinations in Overdoses\")\n",
    "\n",
    "    # Adjust layout to fit labels\n",
    "    plt.tight_layout()\n",
    "\n",
    "    # Show the plot\n",
    "    plt.show()"
   ]
  },
  {
   "cell_type": "code",
   "execution_count": null,
   "metadata": {},
   "outputs": [],
   "source": [
    "plot_top_drug_combinations_with_labels(top_co_occurrences)"
   ]
  },
  {
   "cell_type": "code",
   "execution_count": null,
   "metadata": {},
   "outputs": [],
   "source": [
    "drug_df[\"Others\"].value_counts()"
   ]
  }
 ],
 "metadata": {
  "kernelspec": {
   "display_name": "bertfine",
   "language": "python",
   "name": "python3"
  },
  "language_info": {
   "codemirror_mode": {
    "name": "ipython",
    "version": 3
   },
   "file_extension": ".py",
   "mimetype": "text/x-python",
   "name": "python",
   "nbconvert_exporter": "python",
   "pygments_lexer": "ipython3",
   "version": "3.11.10"
  }
 },
 "nbformat": 4,
 "nbformat_minor": 2
}
