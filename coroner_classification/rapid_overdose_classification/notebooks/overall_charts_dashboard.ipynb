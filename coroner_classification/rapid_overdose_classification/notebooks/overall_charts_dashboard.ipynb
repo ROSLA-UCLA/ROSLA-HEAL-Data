{
 "cells": [
  {
   "cell_type": "code",
   "execution_count": null,
   "metadata": {},
   "outputs": [],
   "source": [
    "import pandas as pd"
   ]
  },
  {
   "cell_type": "code",
   "execution_count": null,
   "metadata": {},
   "outputs": [],
   "source": [
    "# 1. Load your raw overdose dataset (each row is an overdose case)\n",
    "df = pd.read_csv(\"../../reports/deidentified_overdose_201201202408_zips_0311.csv\")\n",
    "\n",
    "# 2. Define the overdose type columns (drug columns)\n",
    "drug_cols = [\n",
    "    \"Methamphetamine\",\n",
    "    \"Heroin\",\n",
    "    \"Cocaine\",\n",
    "    \"Fentanyl\",\n",
    "    \"Alcohol\",\n",
    "    \"Prescription.opioids\",\n",
    "    \"Any Opioids\",\n",
    "    \"Benzodiazepines\",\n",
    "    \"Others\",\n",
    "    \"Any Drugs\",  # This column is assumed to be the overall indicator\n",
    "]\n",
    "\n",
    "# 3. Define the demographic columns you want to keep.\n",
    "# Adjust this list if you want additional fields.\n",
    "id_vars = [\"CaseNumber\", \"Year\", \"Age_Bin\", \"Gender\", \"Race\"]\n",
    "\n",
    "# 4. Melt the data so that each overdose case appears once per drug type it involved.\n",
    "#    This creates two new columns: \"Overdose_Type\" and \"DrugIndicator\"\n",
    "df_long = df.melt(\n",
    "    id_vars=id_vars,\n",
    "    value_vars=drug_cols,\n",
    "    var_name=\"Overdose_Type\",\n",
    "    value_name=\"DrugIndicator\",\n",
    ")\n",
    "\n",
    "# 5. Keep only rows where the drug was involved (e.g., DrugIndicator equals 1)\n",
    "#    (Adjust the condition if your flag is different)\n",
    "df_long = df_long[df_long[\"DrugIndicator\"] == 1].drop(columns=[\"DrugIndicator\"])\n",
    "\n",
    "# At this point, df_long is a detailed long table with columns:\n",
    "# [CaseNumber, Year, Age_Bin, Gender, Race, Overdose_Type]\n",
    "# where each row represents an overdose case and a specific drug that was involved.\n",
    "\n",
    "# 6. Create a duplicate of the detailed table with Year set to \"All\"\n",
    "df_long_all = df_long.copy()\n",
    "df_long_all[\"Year\"] = \"All\"\n",
    "\n",
    "# 7. Combine the original detailed data with the \"All\" year rows\n",
    "df_final = pd.concat([df_long, df_long_all], ignore_index=True)\n",
    "\n",
    "# (Optional) Create a composite key if needed for filtering in the dashboard.\n",
    "# For example, if you want to filter by the combination of Year and Overdose_Type:\n",
    "df_final[\"YearOverdoseType\"] = (\n",
    "    df_final[\"Year\"].astype(str) + \"_\" + df_final[\"Overdose_Type\"]\n",
    ")\n",
    "\n",
    "df_final[\"Overdose_Type\"] = df_final[\"Overdose_Type\"] + \"_Count\""
   ]
  },
  {
   "cell_type": "code",
   "execution_count": null,
   "metadata": {},
   "outputs": [],
   "source": [
    "df_final"
   ]
  },
  {
   "cell_type": "code",
   "execution_count": null,
   "metadata": {},
   "outputs": [],
   "source": [
    "df_final.to_csv(\"super_long_for_charts_donezo.csv\", index=False)"
   ]
  },
  {
   "cell_type": "code",
   "execution_count": null,
   "metadata": {},
   "outputs": [],
   "source": []
  }
 ],
 "metadata": {
  "kernelspec": {
   "display_name": "arcgis",
   "language": "python",
   "name": "python3"
  },
  "language_info": {
   "codemirror_mode": {
    "name": "ipython",
    "version": 3
   },
   "file_extension": ".py",
   "mimetype": "text/x-python",
   "name": "python",
   "nbconvert_exporter": "python",
   "pygments_lexer": "ipython3",
   "version": "3.11.11"
  }
 },
 "nbformat": 4,
 "nbformat_minor": 2
}
