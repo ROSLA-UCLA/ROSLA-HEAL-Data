{
 "cells": [
  {
   "cell_type": "code",
   "execution_count": null,
   "metadata": {},
   "outputs": [],
   "source": [
    "import pandas as pd"
   ]
  },
  {
   "cell_type": "code",
   "execution_count": null,
   "metadata": {},
   "outputs": [],
   "source": [
    "ext_df = pd.read_excel(\"../../data/external_updated.xlsx\")"
   ]
  },
  {
   "cell_type": "code",
   "execution_count": null,
   "metadata": {},
   "outputs": [],
   "source": [
    "ext_df = ext_df.rename(columns={\"Combined_text\": \"text\"})"
   ]
  },
  {
   "cell_type": "code",
   "execution_count": null,
   "metadata": {},
   "outputs": [],
   "source": [
    "ext_df[\"Prescription opioids\"]"
   ]
  },
  {
   "cell_type": "code",
   "execution_count": null,
   "metadata": {},
   "outputs": [],
   "source": [
    "# Create 'Drug no opioids' column\n",
    "non_opioid_columns = [\n",
    "    \"Methamphetamine\",\n",
    "    \"Cocaine\",\n",
    "    \"Benzodiazepines\",\n",
    "    \"Alcohol\",\n",
    "    \"Others\",\n",
    "]\n",
    "ext_df[\"Drug No Opioids\"] = ext_df[non_opioid_columns].max(axis=1)\n",
    "\n",
    "# Create 'Any Drugs' column\n",
    "all_drug_columns = [\n",
    "    \"Any opioid\",\n",
    "    \"Heroin\",\n",
    "    \"Fentanyl\",\n",
    "    \"Prescription opioids\",\n",
    "    \"Methamphetamine\",\n",
    "    \"Cocaine\",\n",
    "    \"Benzodiazepines\",\n",
    "    \"Alcohol\",\n",
    "    \"Others\",\n",
    "]\n",
    "ext_df[\"Any Drugs\"] = ext_df[all_drug_columns].max(axis=1)"
   ]
  },
  {
   "cell_type": "code",
   "execution_count": null,
   "metadata": {},
   "outputs": [],
   "source": [
    "ext_df = ext_df.rename(\n",
    "    columns={\n",
    "        \"Any opioid\": \"Any Opioids\",\n",
    "        \"Prescription opioids\": \"Prescription.opioids\",\n",
    "    },\n",
    ")"
   ]
  },
  {
   "cell_type": "code",
   "execution_count": null,
   "metadata": {},
   "outputs": [],
   "source": [
    "drug_cols = [\n",
    "    \"Methamphetamine\",\n",
    "    \"Heroin\",\n",
    "    \"Cocaine\",\n",
    "    \"Fentanyl\",\n",
    "    \"Alcohol\",\n",
    "    \"Prescription.opioids\",\n",
    "    \"Any Opioids\",\n",
    "    \"Benzodiazepines\",\n",
    "    \"Others\",\n",
    "    \"Any Drugs\",\n",
    "    \"Drug No Opioids\",\n",
    "]"
   ]
  },
  {
   "cell_type": "code",
   "execution_count": null,
   "metadata": {},
   "outputs": [],
   "source": [
    "ext_df[drug_cols].isna().sum()"
   ]
  },
  {
   "cell_type": "code",
   "execution_count": null,
   "metadata": {},
   "outputs": [],
   "source": [
    "rows_with_na = ext_df[ext_df[drug_cols].isna().any(axis=1)]"
   ]
  },
  {
   "cell_type": "code",
   "execution_count": null,
   "metadata": {},
   "outputs": [],
   "source": [
    "rows_with_na"
   ]
  },
  {
   "cell_type": "code",
   "execution_count": null,
   "metadata": {},
   "outputs": [],
   "source": [
    "ext_df.to_csv(\"../../data/external_test.csv\")"
   ]
  },
  {
   "cell_type": "code",
   "execution_count": null,
   "metadata": {},
   "outputs": [],
   "source": []
  }
 ],
 "metadata": {
  "kernelspec": {
   "display_name": "py311",
   "language": "python",
   "name": "python3"
  },
  "language_info": {
   "codemirror_mode": {
    "name": "ipython",
    "version": 3
   },
   "file_extension": ".py",
   "mimetype": "text/x-python",
   "name": "python",
   "nbconvert_exporter": "python",
   "pygments_lexer": "ipython3",
   "version": "3.11.10"
  }
 },
 "nbformat": 4,
 "nbformat_minor": 2
}
